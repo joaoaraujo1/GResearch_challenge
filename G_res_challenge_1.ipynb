{
 "cells": [
  {
   "cell_type": "markdown",
   "id": "24387301",
   "metadata": {},
   "source": [
    "# My Solution\n",
    "Consider each city sequentially. At each one of them, calculate all possible trades and add the most profitable to the transportation route, updating the `C` matrix in the process. Estimate profit by normalizing the expected `(sell_price - buy_price - transportation_cost)` by `(1-probability_of_failure)`"
   ]
  },
  {
   "cell_type": "code",
   "execution_count": 1,
   "id": "0f87622a",
   "metadata": {},
   "outputs": [],
   "source": [
    "import pandas as pd\n",
    "import numpy as np\n",
    "from copy import deepcopy\n",
    "\n",
    "def find_optimal_transport(C, G, P):\n",
    "    transportation_plan = []\n",
    "    N = len(C)\n",
    "    profit_vec = []\n",
    "    for ind_selling in range(N):\n",
    "        city_profit = 0\n",
    "        city_transportation = []\n",
    "        for ind_buying in range(N):\n",
    "            sell_Q = C[ind_selling][3]\n",
    "            sell_price = C[ind_selling][1]\n",
    "            buy_Q = C[ind_buying][2]\n",
    "            buy_price = C[ind_buying][0]\n",
    "            quant = min(buy_Q, sell_Q)\n",
    "            if quant > 0:\n",
    "                profit = (1-P[ind_selling][ind_buying])*quant*(buy_price-sell_price-G[ind_selling][ind_buying])\n",
    "                if profit > city_profit:\n",
    "                    C_copy = deepcopy(C)\n",
    "                    C_copy[ind_selling][3] -= quant\n",
    "                    C_copy[ind_buying][2] -= quant\n",
    "                    city_transportation = [[ind_selling, ind_buying, quant]]\n",
    "                    city_profit = profit\n",
    "        if len(city_transportation) > 0:\n",
    "            transportation_plan += city_transportation\n",
    "            C = C_copy \n",
    "             \n",
    "    return np.array(transportation_plan)"
   ]
  },
  {
   "cell_type": "markdown",
   "id": "98034ab7",
   "metadata": {},
   "source": [
    "# Potential Improvements\n",
    "- Multiple randomizations of the order of cities to evaluate\n",
    "- Using search algorithms with dynamic programming"
   ]
  }
 ],
 "metadata": {
  "kernelspec": {
   "display_name": "Python 3 (Spyder)",
   "language": "python3",
   "name": "python3"
  },
  "language_info": {
   "codemirror_mode": {
    "name": "ipython",
    "version": 3
   },
   "file_extension": ".py",
   "mimetype": "text/x-python",
   "name": "python",
   "nbconvert_exporter": "python",
   "pygments_lexer": "ipython3",
   "version": "3.10.6"
  }
 },
 "nbformat": 4,
 "nbformat_minor": 5
}
